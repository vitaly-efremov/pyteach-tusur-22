{
 "cells": [
  {
   "cell_type": "markdown",
   "metadata": {},
   "source": [
    "## 8. Структуры данных. Генераторы.\n",
    "\n",
    "### 8.1 Множество\n",
    "**Множества** – это неупорядоченные наборы простых объектов. Они необходимы тогда, когда присутствие объекта в наборе важнее порядка или того, сколько раз данный объект там встречается.\n",
    "Используя множества, можно осуществлять проверку принадлежности, определять, является ли данное множество подмножеством другого множества, находить пересечения множеств и так далее.\n",
    "\n",
    " #### Основные операции\n",
    "\n",
    "<table style=\"width: 500px;\">\n",
    " <thead style=\"background: #e7e7e7; font-weight: bold;\">\n",
    "    <tr >\n",
    "        <td style=\"text-align: center;\">Операция</td>\n",
    "        <td style=\"text-align: center;\">Интерпретация</td>\n",
    "    </tr>\n",
    "  </thead>\n",
    "   <tbody>\n",
    "    <tr>\n",
    "        <td style=\"text-align: center;\">S = set()</td>\n",
    "        <td style=\"text-align: center;\">Пустое множество</td>\n",
    "    </tr>\n",
    "    <tr>\n",
    "        <td style=\"text-align: center;\">S = {1, 2}</td>\n",
    "        <td style=\"text-align: center;\">Множество из двух элементов</td>\n",
    "    </tr>\n",
    "    <tr>\n",
    "        <td style=\"text-align: center;\">\n",
    "        S = set([1, 2, 3])<br/>\n",
    "        S = {1, 2, 3}<br/>\n",
    "        </td>\n",
    "        <td style=\"text-align: center;\">Альтернативные способы создания множеств</td>\n",
    "    </tr>\n",
    "    <tr>\n",
    "        <td style=\"text-align: center;\">1 in S</td>\n",
    "        <td style=\"text-align: center;\">Проверка на вхождение элемента в множество</td>\n",
    "    </tr>\n",
    "    <tr>\n",
    "        <td style=\"text-align: center;\">S.add(1)</td>\n",
    "        <td style=\"text-align: center;\">Методы: добавить новый элемент </td>\n",
    "    </tr>\n",
    "    <tr>\n",
    "        <td style=\"text-align: center;\">S.issubset({1, 2, 3, 4})</td>\n",
    "        <td style=\"text-align: center;\">является ли подмножеством множество S</td>\n",
    "    </tr>\n",
    "    <tr>\n",
    "        <td style=\"text-align: center;\">S.issuperset(S2)</td>\n",
    "        <td style=\"text-align: center;\">является ли надмножеством множество S</td>\n",
    "    </tr>\n",
    "    <tr>\n",
    "        <td style=\"text-align: center;\">S.union(S2) <br/> S | S2</td>\n",
    "        <td style=\"text-align: center;\">объединение</td>\n",
    "    </tr>\n",
    "    <tr>\n",
    "        <td style=\"text-align: center;\">S.intersect(S2) <br/> S & S2</td>\n",
    "        <td style=\"text-align: center;\">пересечение</td>\n",
    "    </tr>\n",
    "    <tr>\n",
    "        <td style=\"text-align: center;\">S.difference(S2) <br/> S - S2</td>\n",
    "        <td style=\"text-align: center;\">разница</td>\n",
    "    </tr>\n",
    "    <tr>\n",
    "        <td style=\"text-align: center;\">S.symmetric_difference(S2) <br/> S ^ S2</td>\n",
    "        <td style=\"text-align: center;\">симметрическая разница</td>\n",
    "    </tr>\n",
    "  </tbody>\n",
    "</table>"
   ]
  },
  {
   "cell_type": "code",
   "execution_count": null,
   "metadata": {
    "tags": []
   },
   "outputs": [],
   "source": []
  },
  {
   "cell_type": "markdown",
   "metadata": {},
   "source": [
    "## 8.2. Генераторы списков (List comprehensions)"
   ]
  },
  {
   "cell_type": "code",
   "execution_count": 1,
   "metadata": {},
   "outputs": [
    {
     "name": "stdout",
     "output_type": "stream",
     "text": [
      "[1, 2, 3, 4] -> [2, 4, 6, 8]\n",
      "[1, 2, 3, 4] -> [2, 4, 6, 8]\n"
     ]
    }
   ],
   "source": [
    "# 1. Стандартный способ\n",
    "initial_array = [1, 2, 3, 4]\n",
    "\n",
    "array = initial_array[:]\n",
    "for i in range(len(array)):\n",
    "    array[i] *= 2\n",
    "\n",
    "print(initial_array, array, sep=' -> ')\n",
    "\n",
    "# or\n",
    "array = []\n",
    "for x in initial_array:\n",
    "    array.append(x * 2)\n",
    "    \n",
    "\n",
    "# 2. Использование генераторов списков\n",
    "array = [x * 2 for x in initial_array]\n",
    "print(initial_array, array, sep=' -> ')"
   ]
  },
  {
   "cell_type": "code",
   "execution_count": 7,
   "metadata": {},
   "outputs": [
    {
     "data": {
      "text/plain": [
       "\u001b[0;31mSignature:\u001b[0m\n",
       "\u001b[0mopen\u001b[0m\u001b[0;34m(\u001b[0m\u001b[0;34m\u001b[0m\n",
       "\u001b[0;34m\u001b[0m    \u001b[0mfile\u001b[0m\u001b[0;34m,\u001b[0m\u001b[0;34m\u001b[0m\n",
       "\u001b[0;34m\u001b[0m    \u001b[0mmode\u001b[0m\u001b[0;34m=\u001b[0m\u001b[0;34m'r'\u001b[0m\u001b[0;34m,\u001b[0m\u001b[0;34m\u001b[0m\n",
       "\u001b[0;34m\u001b[0m    \u001b[0mbuffering\u001b[0m\u001b[0;34m=\u001b[0m\u001b[0;34m-\u001b[0m\u001b[0;36m1\u001b[0m\u001b[0;34m,\u001b[0m\u001b[0;34m\u001b[0m\n",
       "\u001b[0;34m\u001b[0m    \u001b[0mencoding\u001b[0m\u001b[0;34m=\u001b[0m\u001b[0;32mNone\u001b[0m\u001b[0;34m,\u001b[0m\u001b[0;34m\u001b[0m\n",
       "\u001b[0;34m\u001b[0m    \u001b[0merrors\u001b[0m\u001b[0;34m=\u001b[0m\u001b[0;32mNone\u001b[0m\u001b[0;34m,\u001b[0m\u001b[0;34m\u001b[0m\n",
       "\u001b[0;34m\u001b[0m    \u001b[0mnewline\u001b[0m\u001b[0;34m=\u001b[0m\u001b[0;32mNone\u001b[0m\u001b[0;34m,\u001b[0m\u001b[0;34m\u001b[0m\n",
       "\u001b[0;34m\u001b[0m    \u001b[0mclosefd\u001b[0m\u001b[0;34m=\u001b[0m\u001b[0;32mTrue\u001b[0m\u001b[0;34m,\u001b[0m\u001b[0;34m\u001b[0m\n",
       "\u001b[0;34m\u001b[0m    \u001b[0mopener\u001b[0m\u001b[0;34m=\u001b[0m\u001b[0;32mNone\u001b[0m\u001b[0;34m,\u001b[0m\u001b[0;34m\u001b[0m\n",
       "\u001b[0;34m\u001b[0m\u001b[0;34m)\u001b[0m\u001b[0;34m\u001b[0m\u001b[0;34m\u001b[0m\u001b[0m\n",
       "\u001b[0;31mDocstring:\u001b[0m\n",
       "Open file and return a stream.  Raise OSError upon failure.\n",
       "\n",
       "file is either a text or byte string giving the name (and the path\n",
       "if the file isn't in the current working directory) of the file to\n",
       "be opened or an integer file descriptor of the file to be\n",
       "wrapped. (If a file descriptor is given, it is closed when the\n",
       "returned I/O object is closed, unless closefd is set to False.)\n",
       "\n",
       "mode is an optional string that specifies the mode in which the file\n",
       "is opened. It defaults to 'r' which means open for reading in text\n",
       "mode.  Other common values are 'w' for writing (truncating the file if\n",
       "it already exists), 'x' for creating and writing to a new file, and\n",
       "'a' for appending (which on some Unix systems, means that all writes\n",
       "append to the end of the file regardless of the current seek position).\n",
       "In text mode, if encoding is not specified the encoding used is platform\n",
       "dependent: locale.getpreferredencoding(False) is called to get the\n",
       "current locale encoding. (For reading and writing raw bytes use binary\n",
       "mode and leave encoding unspecified.) The available modes are:\n",
       "\n",
       "========= ===============================================================\n",
       "Character Meaning\n",
       "--------- ---------------------------------------------------------------\n",
       "'r'       open for reading (default)\n",
       "'w'       open for writing, truncating the file first\n",
       "'x'       create a new file and open it for writing\n",
       "'a'       open for writing, appending to the end of the file if it exists\n",
       "'b'       binary mode\n",
       "'t'       text mode (default)\n",
       "'+'       open a disk file for updating (reading and writing)\n",
       "'U'       universal newline mode (deprecated)\n",
       "========= ===============================================================\n",
       "\n",
       "The default mode is 'rt' (open for reading text). For binary random\n",
       "access, the mode 'w+b' opens and truncates the file to 0 bytes, while\n",
       "'r+b' opens the file without truncation. The 'x' mode implies 'w' and\n",
       "raises an `FileExistsError` if the file already exists.\n",
       "\n",
       "Python distinguishes between files opened in binary and text modes,\n",
       "even when the underlying operating system doesn't. Files opened in\n",
       "binary mode (appending 'b' to the mode argument) return contents as\n",
       "bytes objects without any decoding. In text mode (the default, or when\n",
       "'t' is appended to the mode argument), the contents of the file are\n",
       "returned as strings, the bytes having been first decoded using a\n",
       "platform-dependent encoding or using the specified encoding if given.\n",
       "\n",
       "'U' mode is deprecated and will raise an exception in future versions\n",
       "of Python.  It has no effect in Python 3.  Use newline to control\n",
       "universal newlines mode.\n",
       "\n",
       "buffering is an optional integer used to set the buffering policy.\n",
       "Pass 0 to switch buffering off (only allowed in binary mode), 1 to select\n",
       "line buffering (only usable in text mode), and an integer > 1 to indicate\n",
       "the size of a fixed-size chunk buffer.  When no buffering argument is\n",
       "given, the default buffering policy works as follows:\n",
       "\n",
       "* Binary files are buffered in fixed-size chunks; the size of the buffer\n",
       "  is chosen using a heuristic trying to determine the underlying device's\n",
       "  \"block size\" and falling back on `io.DEFAULT_BUFFER_SIZE`.\n",
       "  On many systems, the buffer will typically be 4096 or 8192 bytes long.\n",
       "\n",
       "* \"Interactive\" text files (files for which isatty() returns True)\n",
       "  use line buffering.  Other text files use the policy described above\n",
       "  for binary files.\n",
       "\n",
       "encoding is the name of the encoding used to decode or encode the\n",
       "file. This should only be used in text mode. The default encoding is\n",
       "platform dependent, but any encoding supported by Python can be\n",
       "passed.  See the codecs module for the list of supported encodings.\n",
       "\n",
       "errors is an optional string that specifies how encoding errors are to\n",
       "be handled---this argument should not be used in binary mode. Pass\n",
       "'strict' to raise a ValueError exception if there is an encoding error\n",
       "(the default of None has the same effect), or pass 'ignore' to ignore\n",
       "errors. (Note that ignoring encoding errors can lead to data loss.)\n",
       "See the documentation for codecs.register or run 'help(codecs.Codec)'\n",
       "for a list of the permitted encoding error strings.\n",
       "\n",
       "newline controls how universal newlines works (it only applies to text\n",
       "mode). It can be None, '', '\\n', '\\r', and '\\r\\n'.  It works as\n",
       "follows:\n",
       "\n",
       "* On input, if newline is None, universal newlines mode is\n",
       "  enabled. Lines in the input can end in '\\n', '\\r', or '\\r\\n', and\n",
       "  these are translated into '\\n' before being returned to the\n",
       "  caller. If it is '', universal newline mode is enabled, but line\n",
       "  endings are returned to the caller untranslated. If it has any of\n",
       "  the other legal values, input lines are only terminated by the given\n",
       "  string, and the line ending is returned to the caller untranslated.\n",
       "\n",
       "* On output, if newline is None, any '\\n' characters written are\n",
       "  translated to the system default line separator, os.linesep. If\n",
       "  newline is '' or '\\n', no translation takes place. If newline is any\n",
       "  of the other legal values, any '\\n' characters written are translated\n",
       "  to the given string.\n",
       "\n",
       "If closefd is False, the underlying file descriptor will be kept open\n",
       "when the file is closed. This does not work when a file name is given\n",
       "and must be True in that case.\n",
       "\n",
       "A custom opener can be used by passing a callable as *opener*. The\n",
       "underlying file descriptor for the file object is then obtained by\n",
       "calling *opener* with (*file*, *flags*). *opener* must return an open\n",
       "file descriptor (passing os.open as *opener* results in functionality\n",
       "similar to passing None).\n",
       "\n",
       "open() returns a file object whose type depends on the mode, and\n",
       "through which the standard file operations such as reading and writing\n",
       "are performed. When open() is used to open a file in a text mode ('w',\n",
       "'r', 'wt', 'rt', etc.), it returns a TextIOWrapper. When used to open\n",
       "a file in a binary mode, the returned class varies: in read binary\n",
       "mode, it returns a BufferedReader; in write binary and append binary\n",
       "modes, it returns a BufferedWriter, and in read/write mode, it returns\n",
       "a BufferedRandom.\n",
       "\n",
       "It is also possible to use a string or bytearray as a file for both\n",
       "reading and writing. For strings StringIO can be used like a file\n",
       "opened in a text mode, and for bytes a BytesIO can be used like a file\n",
       "opened in a binary mode.\n",
       "\u001b[0;31mType:\u001b[0m      builtin_function_or_method\n"
      ]
     },
     "metadata": {},
     "output_type": "display_data"
    }
   ],
   "source": [
    "value = 'Beautiful is better than ugly. \\n'\n",
    "value.rstrip()\n",
    "?open"
   ]
  },
  {
   "cell_type": "code",
   "execution_count": 8,
   "metadata": {},
   "outputs": [
    {
     "ename": "FileNotFoundError",
     "evalue": "[Errno 2] No such file or directory: 'zen.txt'",
     "output_type": "error",
     "traceback": [
      "\u001b[0;31m---------------------------------------------------------------------------\u001b[0m",
      "\u001b[0;31mFileNotFoundError\u001b[0m                         Traceback (most recent call last)",
      "Cell \u001b[0;32mIn [8], line 1\u001b[0m\n\u001b[0;32m----> 1\u001b[0m file \u001b[38;5;241m=\u001b[39m \u001b[38;5;28;43mopen\u001b[39;49m\u001b[43m(\u001b[49m\u001b[38;5;124;43m'\u001b[39;49m\u001b[38;5;124;43mzen.txt\u001b[39;49m\u001b[38;5;124;43m'\u001b[39;49m\u001b[43m)\u001b[49m\n\u001b[1;32m      3\u001b[0m lines \u001b[38;5;241m=\u001b[39m file\u001b[38;5;241m.\u001b[39mreadlines()\n\u001b[1;32m      4\u001b[0m \u001b[38;5;28mprint\u001b[39m(lines)\n",
      "\u001b[0;31mFileNotFoundError\u001b[0m: [Errno 2] No such file or directory: 'zen.txt'"
     ]
    }
   ],
   "source": [
    "file = open('zen.txt')\n",
    "\n",
    "def strip_line(line):\n",
    "    return line.rstrip()\n",
    "\n",
    "\n",
    "lines = file.readlines()\n",
    "print(lines)\n",
    "\n",
    "lines = [line.rstrip() for line in lines]\n",
    "\n",
    "\n",
    "print('', 'Stripped lines:', lines, sep='\\n')\n",
    "lines_copy = [\n",
    "    line*2\n",
    "    for single_line in lines\n",
    "]\n",
    "\n",
    "better_lines = [\n",
    "    line\n",
    "    for line in lines\n",
    "    if 'better' in line\n",
    "]\n",
    "print('', 'Lines with better:', better_lines, sep='\\n')\n",
    "\n",
    "\n",
    "file.close()"
   ]
  },
  {
   "cell_type": "code",
   "execution_count": 29,
   "metadata": {},
   "outputs": [
    {
     "name": "stdout",
     "output_type": "stream",
     "text": [
      "Beautiful is better than ugly. \n",
      "Explicit is better than implicit.\n",
      "Simple is better than complex.\n",
      "Complex is better than complicated.\n",
      "Flat is better than nested.\n",
      "Sparse is better than dense.\n",
      "Readability counts.\n",
      "Special cases aren't special enough to break the rules.\n",
      "Although practicality beats purity.\n",
      "Errors should never pass silently.\n",
      "Unless explicitly silenced.\n",
      "In the face of ambiguity, refuse the temptation to guess.\n",
      "There should be one-- and preferably only one --obvious way to do it.\n",
      "Although that way may not be obvious at first unless you're Dutch.\n",
      "Now is better than never.\n",
      "Although never is often better than *right* now.\n",
      "If the implementation is hard to explain, it's a bad idea.\n",
      "If the implementation is easy to explain, it may be a good idea.\n",
      "Namespaces are one honking great idea -- let's do more of those!"
     ]
    }
   ],
   "source": [
    "with open('zen.txt') as file:\n",
    "    for line in file:\n",
    "        print(line, end='')\n",
    "print(1)"
   ]
  },
  {
   "cell_type": "code",
   "execution_count": 1,
   "metadata": {},
   "outputs": [
    {
     "name": "stdout",
     "output_type": "stream",
     "text": [
      "['al', 'am', 'an', 'bl', 'bm', 'bn', 'cl', 'cm', 'cn']\n",
      "['al', 'am', 'an', 'bl', 'bm', 'bn', 'cl', 'cm', 'cn']\n"
     ]
    }
   ],
   "source": [
    "concatinations = [x + y for x in 'abc' for y in 'lmn']\n",
    "print(concatinations)\n",
    "\n",
    "# OR\n",
    "concatinations = []\n",
    "for x in 'abc':\n",
    "    for y in 'lmn':\n",
    "        concatinations.append(x + y)\n",
    "print(concatinations)\n",
    "concatinations = [\n",
    "    x + y \n",
    "    for x in 'abc' \n",
    "    for y in 'lmn'\n",
    "]\n"
   ]
  },
  {
   "cell_type": "code",
   "execution_count": 1,
   "metadata": {},
   "outputs": [
    {
     "data": {
      "text/plain": [
       "[9, 81, 225, 441]"
      ]
     },
     "execution_count": 1,
     "metadata": {},
     "output_type": "execute_result"
    }
   ],
   "source": [
    "[x**2 for x in range(1, 25, 2) if not x % 3]"
   ]
  },
  {
   "cell_type": "code",
   "execution_count": 10,
   "metadata": {},
   "outputs": [
    {
     "name": "stdout",
     "output_type": "stream",
     "text": [
      "[1, 2, 3, 4, 5, 6]\n"
     ]
    }
   ],
   "source": [
    "data = [[1, 2],\n",
    "        [3, 4],\n",
    "        [5, 6]]\n",
    "\n",
    "data = [\n",
    "    [1, 2],\n",
    "    [3, 4],\n",
    "    [5, 6]\n",
    "]\n",
    "\n",
    "\n",
    "flat_array = [element for row in data \n",
    "                      for element in row]\n",
    "\n",
    "flat_array = [\n",
    "    element\n",
    "    for row in data\n",
    "    for element in row\n",
    "]\n",
    "print(flat_array)"
   ]
  },
  {
   "cell_type": "markdown",
   "metadata": {},
   "source": [
    "## 8.2. Генераторы словарей (Dict comprehensions)"
   ]
  },
  {
   "cell_type": "code",
   "execution_count": 1,
   "metadata": {},
   "outputs": [
    {
     "name": "stdout",
     "output_type": "stream",
     "text": [
      "{8: 'B', 1: 'A', 27: 'C'}\n",
      "{27: 'c'}\n"
     ]
    }
   ],
   "source": [
    "keys = (1, 2, 3)\n",
    "values = ('a', 'B', 'c')\n",
    "\n",
    "trash_map = {}\n",
    "for k, v in zip(keys, values):\n",
    "    trash_map[k**3] = v.upper()\n",
    "\n",
    "# OR\n",
    "\n",
    "trash_map = {k**3: v.upper() for k, v in zip(keys, values)}\n",
    "print(trash_map)\n",
    "\n",
    "trash_map = {k: v.lower() for k, v in trash_map.items() \n",
    "             if k > 8}\n",
    "print(trash_map)"
   ]
  },
  {
   "cell_type": "markdown",
   "metadata": {},
   "source": [
    "## 8.3. Генераторы множеств (Set comprehensions)"
   ]
  },
  {
   "cell_type": "code",
   "execution_count": 9,
   "metadata": {},
   "outputs": [
    {
     "name": "stdout",
     "output_type": "stream",
     "text": [
      "{-16, 18, -12, 14}\n"
     ]
    }
   ],
   "source": [
    "super_set = {x * 2 * (-1 if x % 2 else 1) for x in range(10) \n",
    "             if abs(x) > 5}\n",
    "# OR\n",
    "super_set = {x * 2 * (x % 2 or -1) for x in range(10) \n",
    "             if abs(x) > 5}\n",
    "\n",
    "print(super_set)"
   ]
  },
  {
   "cell_type": "markdown",
   "metadata": {},
   "source": [
    "### 8.4. Генераторы"
   ]
  },
  {
   "cell_type": "code",
   "execution_count": 16,
   "metadata": {},
   "outputs": [
    {
     "name": "stdout",
     "output_type": "stream",
     "text": [
      "-12 14 -16 18 \n",
      "Second attempt:\n"
     ]
    }
   ],
   "source": [
    "generator = (x * 2 * (x % 2 or -1) for x in range(10) \n",
    "             if abs(x) > 5)\n",
    "\n",
    "for x in generator:\n",
    "    print(x, end=' ')\n",
    "\n",
    "print('\\nSecond attempt:')\n",
    "for x in generator:\n",
    "    print(x, end=' ')"
   ]
  },
  {
   "cell_type": "code",
   "execution_count": 27,
   "metadata": {},
   "outputs": [
    {
     "name": "stdout",
     "output_type": "stream",
     "text": [
      "1 2 1 2 "
     ]
    }
   ],
   "source": [
    "generator = (x * 2 * (x % 2 or -1) for x in range(10) \n",
    "             if abs(x) > 5)\n",
    "\n",
    "# next(generator)\n",
    "# next(generator)\n",
    "# next(generator)\n",
    "# next(generator)\n",
    "# next(generator)\n",
    "elements = [1, 2]\n",
    "for x in iter(elements):\n",
    "    print(x, end=' ')\n",
    "\n",
    "def iter(elements):\n",
    "     return elements.__iter__()\n",
    "\n",
    "# pseudo\n",
    "#...\n",
    "def __iter__(self):\n",
    "    while i < n:\n",
    "        yield self.values[i]\n",
    "    \n",
    "# internal version of for loop\n",
    "elements_iter = iter(elements)\n",
    "while True:\n",
    "    try:\n",
    "        x = next(elements_iter)\n",
    "    except StopIteration:\n",
    "        break\n",
    "    print(x, end=' ')"
   ]
  },
  {
   "cell_type": "code",
   "execution_count": 11,
   "metadata": {},
   "outputs": [
    {
     "name": "stdout",
     "output_type": "stream",
     "text": [
      "36\n"
     ]
    }
   ],
   "source": [
    "elements_sum = sum([x ** 3 for x in range(4)])\n",
    "elements_sum = sum((x ** 3 for x in range(4)))\n",
    "elements_sum = sum(x ** 3 for x in range(4))\n",
    "\n",
    "print(elements_sum)"
   ]
  },
  {
   "cell_type": "markdown",
   "metadata": {},
   "source": [
    "# Задачи\n",
    "\n",
    "## 1. Не уникальные элементы.\n",
    " **Дано:** непустой массив целых чисел.\n",
    " \n",
    " **Задание:** нужно получить массив, состоящий только из неуникальных элементов данного массива. Для этого необходимо удалить все уникальные элементы (которые присутствуют в данном массиве только один раз). Для решения этой задачи не меняйте оригинальный порядок элементов. Пример: [1, 2, 3, 1, 3], где 1 и 3 неуникальные элементы и результат будет [1, 3, 1, 3]. \n",
    " \n",
    " **Пример:**\n",
    " \n",
    "     [1, 2, 3, 1, 3], результат: [1, 3, 1, 3]\n",
    "     [1, 2, 3, 4, 5], результат: []\n",
    "     [5, 5, 5, 5, 5], результат: [5, 5, 5, 5, 5]\n",
    "     [10, 9, 10, 10, 9, 8], результат: [10, 9, 10, 10, 9]\n",
    "\n",
    "## 2. Перестановки.\n",
    " **Дано:** x, y, z, n.\n",
    " \n",
    " **Задание:** нужно получить список всех возможных перестановок чисел x, y, z, где x + y + z != n. \n",
    " \n",
    " **Пример:**\n",
    "     \n",
    "     \n",
    "     x = 0 y = 0 z = 1\n",
    "     n = 2, результат: [[0, 0, 0], [0, 0, 1], [0, 1, 0], [1, 0, 0], [1, 1, 1]]\n",
    "\n",
    "## 3. Удвоенные нечетные.\n",
    " **Дано:** n.\n",
    " \n",
    " **Задание:** нужно получить список \"удвоенных\" нечетных чисел от 0 до n. \n",
    " \n",
    " **Пример:**\n",
    " \n",
    "     n = 5, результат: [2, 6]\n",
    "\n",
    "\n",
    "## [Junior] 4. Дешифратор.\n",
    " **Дано:** шифровальная решетка (4 на 4) и зашифрованный пароль (4 на 4) представлены, как массив строк.\n",
    " \n",
    " **Задание.** \n",
    " Помогите Софи написать дешифратор для паролей, которые Никола зашифровал с помощью шифровальной решетки. Шифрорешетка - это квадрат 4 на 4 с четырьмя вырезанными окошками. Поместите решетку на листе бумаги такого же размера с буквами, выписываете первые 4 символа, которые видно в окошках (см. рисунок). Затем поверните решетку на 90 градусов по часовой стрелке. Выпишите следующие символы и повторите поворот. В итоге процедура повторяется 4 раза. Таким образом сложно узнать пароль без специальной решетки.\n",
    " \n",
    " Напишите программу, которая поможет проводить данную процедуру.\n",
    " \n",
    " \n",
    " **Пример:**\n",
    " \n",
    "     (('X...',\n",
    "       '..X.',\n",
    "       'X..X',\n",
    "       '....'),\n",
    "      ('itdf',\n",
    "       'gdce',\n",
    "       'aton',\n",
    "       'qrdi'), результат: 'icantforgetiddqd'\n",
    "      \n",
    "     (('....',\n",
    "       'X..X',\n",
    "       '.X..',\n",
    "       '...X'),\n",
    "      ('xhwc',\n",
    "       'rsqx',\n",
    "       'xqzz',\n",
    "       'fyzr')), результат: 'rxqrwsfzxqxzhczy'\n",
    "       \n",
    "## [Junior+] 5. Возраст привидений\n",
    " **Дано:** степень прозрачности, как целое число.\n",
    " \n",
    " **Задание.** \n",
    " У Николы появилось свободное время и он решил заняться исследованием привидений. Он хочет найти способ, как определять возраст привидений. Согласно древним фолиантам, возраст связан со степенью прозрачности призраков. Никола составил шкалу измерений прозрачности от 10000 до 0, где 10000 - это совсем не прозрачное \"новорождённое\" привидение (0 лет) и 0 - это уже невидимка (возраст неизвестен).\n",
    "\n",
    "После множества экспериментов, Никола кажется начел взаимосвязь. На каждый \"день рождения\", степень прозрачности привидения уменьшается на количество единиц, равное его возрасту, если возраст есть одно из чисел Фибоначчи (подробней здесь), иначе увеличивается на единицу.\n",
    "\n",
    "Для примера:\n",
    "\"Новорождённое\" привидение -- 10000 единиц прозрачности.\n",
    "\n",
    "1 год -- 10000 - 1 = 9999 (1 число Фибоначчи).\n",
    "\n",
    "2 года -- 9999 - 2 = 9997 (2 число Фибоначчи).\n",
    "\n",
    "3 года -- 9997 - 3 = 9994 (3 число Фибоначчи).\n",
    "\n",
    "4 года -- 9994 + 1 = 9995 (4 не число Фибоначчи).\n",
    "\n",
    "5 лет -- 9995 - 5 = 9990 (5 число Фибоначчи).\n",
    "Помогите Николе написать функцию, которая будет определять возраст привидения по прозрачности. Вам известно измерение прозрачности, как число от 0 до 10000 включительно. Привидения не бывают старше 5000 лет, так как потом просто исчезают (серьезно, научный факт).\n",
    " \n",
    " \n",
    " **Пример:**\n",
    " \n",
    "    прозрачность = 10000, возраст: 0\n",
    "    прозрачность = 9999, возраст: 1\n",
    "    прозрачность = 9997, возраст: 2\n",
    "    прозрачность = 9994, возраст: 3\n",
    "    прозрачность = 9995, возраст: 4\n",
    "    прозрачность = 9990, возраст: 5\n",
    "       "
   ]
  },
  {
   "cell_type": "code",
   "execution_count": null,
   "metadata": {
    "collapsed": true,
    "jupyter": {
     "outputs_hidden": true
    }
   },
   "outputs": [],
   "source": []
  }
 ],
 "metadata": {
  "kernelspec": {
   "display_name": "Python 3 (ipykernel)",
   "language": "python",
   "name": "python3"
  },
  "language_info": {
   "codemirror_mode": {
    "name": "ipython",
    "version": 3
   },
   "file_extension": ".py",
   "mimetype": "text/x-python",
   "name": "python",
   "nbconvert_exporter": "python",
   "pygments_lexer": "ipython3",
   "version": "3.10.6"
  }
 },
 "nbformat": 4,
 "nbformat_minor": 4
}
