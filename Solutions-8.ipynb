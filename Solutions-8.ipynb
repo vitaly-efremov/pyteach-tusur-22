{
 "cells": [
  {
   "cell_type": "code",
   "execution_count": 2,
   "id": "6d7dc855-1d9b-4183-9469-00adc6a4da12",
   "metadata": {},
   "outputs": [
    {
     "name": "stdout",
     "output_type": "stream",
     "text": [
      "[1, 3, 1, 8, 8, 3]\n",
      "defaultdict(<class 'int'>, {1: 2, 2: 1, 3: 2, 8: 2, 7: 1})\n",
      "[1, 3, 8]\n"
     ]
    }
   ],
   "source": [
    "# 1\n",
    "data = [1, 2, 3, 1, 8, 8, 7, 3]\n",
    "data_set = {1, 2, 3, 8, 7}\n",
    "\n",
    "result = []\n",
    "for el in data:\n",
    "    if data.count(el) > 1:\n",
    "        result.append(el)\n",
    "\n",
    "result = [el for el in data if data.count(el) > 1]\n",
    "print(result)\n",
    "\n",
    "from collections import defaultdict\n",
    "\n",
    "counter = defaultdict(int)\n",
    "for element in data:\n",
    "    counter[element] += 1\n",
    "print(counter)\n",
    "\n",
    "result = [element for element, count in counter.items() if count > 1]\n",
    "print(result)\n"
   ]
  },
  {
   "cell_type": "code",
   "execution_count": 4,
   "id": "2bc491f7-04dd-496e-9e36-4ae2fb04ca90",
   "metadata": {},
   "outputs": [
    {
     "name": "stdout",
     "output_type": "stream",
     "text": [
      "[1, 2, 3, 1, 3]\n"
     ]
    }
   ],
   "source": [
    "import collections\n",
    "\n",
    "arr = [1, 2, 3, 1, 3]\n",
    "new_arr = []\n",
    "chars_popularity = collections.Counter(arr)\n",
    "print(arr)\n",
    "n = len(arr)\n",
    "for number, count in chars_popularity.items():\n",
    "    if count > 1:\n",
    "        new_arr.append(number)\n",
    "\n",
    "new_arr = [number for number, count in chars_popularity.items() if count > 1]\n",
    "\n",
    "# for i in range(n):\n",
    "#     for number in chars_popularity:\n",
    "#         if chars_popularity[number] != 1 and arr[i] == number:\n",
    "#             new_arr.append(number)\n"
   ]
  },
  {
   "cell_type": "code",
   "execution_count": 6,
   "id": "5d07d5aa-860c-430a-91fe-73d4312c1e46",
   "metadata": {},
   "outputs": [
    {
     "data": {
      "text/plain": [
       "[2, 6, 10, 14, 18]"
      ]
     },
     "execution_count": 6,
     "metadata": {},
     "output_type": "execute_result"
    }
   ],
   "source": [
    "def get_double_odd_numbers(number):\n",
    "    \"\"\"\n",
    "    Функция идет по нечетным числам, до введенного\n",
    "    пользователем число, и удваивает их.\n",
    "    :return: Список удвоенных нечетных чисел.\n",
    "    \"\"\"\n",
    "    double_odd_numbers = []\n",
    "    odd_numbers = range(1, number, 2)\n",
    "    not_even_numbers = []\n",
    "    if not not_even_numbers:\n",
    "        pass\n",
    "    \n",
    "    for i in odd_numbers:\n",
    "        double_uneven_numbers.append(i * 2)\n",
    "\n",
    "    for i in range(number):\n",
    "        if number % 2 == 0:\n",
    "            continue\n",
    "        double_uneven_numbers.append(i * 2)\n",
    "    double_odd_numbers = [i * 2 for i in range(number) if number % 2 == 0]\n",
    "    double_odd_numbers = (i * 2 for i in range(number) if number % 2 == 0)    \n",
    "    return double_odd_numbers\n",
    "\n",
    "\n",
    "get_double_odd_numbers(10)\n"
   ]
  },
  {
   "cell_type": "code",
   "execution_count": 4,
   "id": "b3db9985-800d-46b0-a682-4fbc172477cc",
   "metadata": {},
   "outputs": [
    {
     "name": "stdout",
     "output_type": "stream",
     "text": [
      "Help on class range in module builtins:\n",
      "\n",
      "class range(object)\n",
      " |  range(stop) -> range object\n",
      " |  range(start, stop[, step]) -> range object\n",
      " |  \n",
      " |  Return an object that produces a sequence of integers from start (inclusive)\n",
      " |  to stop (exclusive) by step.  range(i, j) produces i, i+1, i+2, ..., j-1.\n",
      " |  start defaults to 0, and stop is omitted!  range(4) produces 0, 1, 2, 3.\n",
      " |  These are exactly the valid indices for a list of 4 elements.\n",
      " |  When step is given, it specifies the increment (or decrement).\n",
      " |  \n",
      " |  Methods defined here:\n",
      " |  \n",
      " |  __bool__(self, /)\n",
      " |      True if self else False\n",
      " |  \n",
      " |  __contains__(self, key, /)\n",
      " |      Return key in self.\n",
      " |  \n",
      " |  __eq__(self, value, /)\n",
      " |      Return self==value.\n",
      " |  \n",
      " |  __ge__(self, value, /)\n",
      " |      Return self>=value.\n",
      " |  \n",
      " |  __getattribute__(self, name, /)\n",
      " |      Return getattr(self, name).\n",
      " |  \n",
      " |  __getitem__(self, key, /)\n",
      " |      Return self[key].\n",
      " |  \n",
      " |  __gt__(self, value, /)\n",
      " |      Return self>value.\n",
      " |  \n",
      " |  __hash__(self, /)\n",
      " |      Return hash(self).\n",
      " |  \n",
      " |  __iter__(self, /)\n",
      " |      Implement iter(self).\n",
      " |  \n",
      " |  __le__(self, value, /)\n",
      " |      Return self<=value.\n",
      " |  \n",
      " |  __len__(self, /)\n",
      " |      Return len(self).\n",
      " |  \n",
      " |  __lt__(self, value, /)\n",
      " |      Return self<value.\n",
      " |  \n",
      " |  __ne__(self, value, /)\n",
      " |      Return self!=value.\n",
      " |  \n",
      " |  __reduce__(...)\n",
      " |      Helper for pickle.\n",
      " |  \n",
      " |  __repr__(self, /)\n",
      " |      Return repr(self).\n",
      " |  \n",
      " |  __reversed__(...)\n",
      " |      Return a reverse iterator.\n",
      " |  \n",
      " |  count(...)\n",
      " |      rangeobject.count(value) -> integer -- return number of occurrences of value\n",
      " |  \n",
      " |  index(...)\n",
      " |      rangeobject.index(value) -> integer -- return index of value.\n",
      " |      Raise ValueError if the value is not present.\n",
      " |  \n",
      " |  ----------------------------------------------------------------------\n",
      " |  Static methods defined here:\n",
      " |  \n",
      " |  __new__(*args, **kwargs) from builtins.type\n",
      " |      Create and return a new object.  See help(type) for accurate signature.\n",
      " |  \n",
      " |  ----------------------------------------------------------------------\n",
      " |  Data descriptors defined here:\n",
      " |  \n",
      " |  start\n",
      " |  \n",
      " |  step\n",
      " |  \n",
      " |  stop\n",
      "\n"
     ]
    }
   ],
   "source": [
    "help(range)"
   ]
  }
 ],
 "metadata": {
  "kernelspec": {
   "display_name": "Python 3 (ipykernel)",
   "language": "python",
   "name": "python3"
  },
  "language_info": {
   "codemirror_mode": {
    "name": "ipython",
    "version": 3
   },
   "file_extension": ".py",
   "mimetype": "text/x-python",
   "name": "python",
   "nbconvert_exporter": "python",
   "pygments_lexer": "ipython3",
   "version": "3.10.6"
  }
 },
 "nbformat": 4,
 "nbformat_minor": 5
}
