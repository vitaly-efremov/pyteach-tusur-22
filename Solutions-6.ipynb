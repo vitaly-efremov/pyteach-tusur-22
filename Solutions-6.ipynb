{
 "cells": [
  {
   "cell_type": "code",
   "execution_count": 1,
   "id": "78c2dc1e-927c-4ff7-a405-cd0b16a9c6fe",
   "metadata": {},
   "outputs": [],
   "source": [
    "# 1"
   ]
  },
  {
   "cell_type": "code",
   "execution_count": 12,
   "id": "d531ab50-57e3-46d1-85d9-488f01a86972",
   "metadata": {},
   "outputs": [
    {
     "name": "stdout",
     "output_type": "stream",
     "text": [
      "elements = [1, 2, 3, 4, 5, 6, 7, 8, 9, 10] , результат: 250\n"
     ]
    }
   ],
   "source": [
    "elements = [1,2,3,4,5,6,7,8,9, 10]\n",
    "sum = 0\n",
    "n = len(elements)\n",
    "\n",
    "for i in range(n):\n",
    "    if (i % 2 == 0):\n",
    "        sum += elements[i]\n",
    "\n",
    "if n != 0:\n",
    "    print(f'elements = {elements} , результат: {sum * elements[n - 1]}')\n",
    "else:\n",
    "    print(f'elements = {elements} , результат: {0}')\n",
    "\n"
   ]
  },
  {
   "cell_type": "code",
   "execution_count": 14,
   "id": "33b983a2-5d48-4d73-a289-58dbede82390",
   "metadata": {},
   "outputs": [
    {
     "name": "stdout",
     "output_type": "stream",
     "text": [
      "Ввелите последовательность чисел: \n"
     ]
    },
    {
     "name": "stdin",
     "output_type": "stream",
     "text": [
      " 1\n"
     ]
    },
    {
     "name": "stdout",
     "output_type": "stream",
     "text": [
      "Сумма элементов с четными индексами:  1\n",
      "Последний элементик списка:  1\n",
      "Произведение последнего элемента списка и суммы элементов с чётными индексами:  1\n"
     ]
    }
   ],
   "source": [
    "int_list = []  # пустой списочек\n",
    "summarize = 0\n",
    "print(\"Ввелите последовательность чисел: \")\n",
    "input_value = input()\n",
    "for element in input_value.split():  # заполнение списка с клавиатуры\n",
    "    int_list.append(int(element))\n",
    "\n",
    "# Calculations\n",
    "if int_list:  # проверяем, чтоб список не был пустым\n",
    "    even_list = int_list[::2]  # список элементов с чётными индексами\n",
    "    # 1\n",
    "    summarize = sum(even_list)\n",
    "\n",
    "    print(\"Сумма элементов с четными индексами: \", summarize)\n",
    "    last_element = int_list[-1]  # находим последний элемент списка\n",
    "    print(\"Последний элементик списка: \", last_element)\n",
    "    result = last_element * summarize\n",
    "    print(\"Произведение последнего элемента списка и суммы элементов с чётными индексами: \", result)\n",
    "else:\n",
    "    print(0)"
   ]
  },
  {
   "cell_type": "code",
   "execution_count": 14,
   "id": "f9ad31c6-2dfc-4733-905a-988b1ff761ac",
   "metadata": {},
   "outputs": [
    {
     "ename": "TypeError",
     "evalue": "'int' object is not callable",
     "output_type": "error",
     "traceback": [
      "\u001b[0;31m---------------------------------------------------------------------------\u001b[0m",
      "\u001b[0;31mTypeError\u001b[0m                                 Traceback (most recent call last)",
      "Cell \u001b[0;32mIn [14], line 18\u001b[0m\n\u001b[1;32m     14\u001b[0m     \u001b[38;5;28;01mreturn\u001b[39;00m even_sum \u001b[38;5;241m*\u001b[39m elements[\u001b[38;5;241m-\u001b[39m\u001b[38;5;241m1\u001b[39m]\n\u001b[1;32m     17\u001b[0m elements \u001b[38;5;241m=\u001b[39m [\u001b[38;5;241m0\u001b[39m, \u001b[38;5;241m1\u001b[39m, \u001b[38;5;241m2\u001b[39m, \u001b[38;5;241m3\u001b[39m, \u001b[38;5;241m4\u001b[39m, \u001b[38;5;241m5\u001b[39m]\n\u001b[0;32m---> 18\u001b[0m even_sum_with_last \u001b[38;5;241m=\u001b[39m \u001b[43mmultiply_even_sum_with_last\u001b[49m\u001b[43m(\u001b[49m\u001b[43melements\u001b[49m\u001b[43m)\u001b[49m\n\u001b[1;32m     19\u001b[0m \u001b[38;5;28;01massert\u001b[39;00m \u001b[38;5;241m1\u001b[39m \u001b[38;5;241m==\u001b[39m \u001b[38;5;241m1\u001b[39m\n\u001b[1;32m     20\u001b[0m \u001b[38;5;28mprint\u001b[39m(even_sum_with_last)\n",
      "Cell \u001b[0;32mIn [14], line 13\u001b[0m, in \u001b[0;36mmultiply_even_sum_with_last\u001b[0;34m(elements)\u001b[0m\n\u001b[1;32m     10\u001b[0m \u001b[38;5;28;01mif\u001b[39;00m \u001b[38;5;129;01mnot\u001b[39;00m elements:\n\u001b[1;32m     11\u001b[0m     \u001b[38;5;28;01mreturn\u001b[39;00m \u001b[38;5;241m0\u001b[39m\n\u001b[0;32m---> 13\u001b[0m even_sum \u001b[38;5;241m=\u001b[39m \u001b[38;5;28;43msum\u001b[39;49m\u001b[43m(\u001b[49m\u001b[43melements\u001b[49m\u001b[43m[\u001b[49m\u001b[38;5;241;43m0\u001b[39;49m\u001b[43m:\u001b[49m\u001b[43m:\u001b[49m\u001b[38;5;241;43m2\u001b[39;49m\u001b[43m]\u001b[49m\u001b[43m)\u001b[49m\n\u001b[1;32m     14\u001b[0m \u001b[38;5;28;01mreturn\u001b[39;00m even_sum \u001b[38;5;241m*\u001b[39m elements[\u001b[38;5;241m-\u001b[39m\u001b[38;5;241m1\u001b[39m]\n",
      "\u001b[0;31mTypeError\u001b[0m: 'int' object is not callable"
     ]
    }
   ],
   "source": [
    "def multiply_even_sum_with_last(elements):\n",
    "    if elements:\n",
    "        even_sum = sum(elements[0::2])\n",
    "        result = even_sum * elements[-1]\n",
    "        print(result)\n",
    "    if not elements:\n",
    "        print(0)\n",
    "\n",
    "def multiply_even_sum_with_last(elements):\n",
    "    if not elements:\n",
    "        return 0\n",
    "    \n",
    "    even_sum = sum(elements[0::2])\n",
    "    return even_sum * elements[-1]\n",
    "\n",
    "\n",
    "elements = [0, 1, 2, 3, 4, 5]\n",
    "even_sum_with_last = multiply_even_sum_with_last(elements)\n",
    "assert 1 == 1\n",
    "print(even_sum_with_last)"
   ]
  },
  {
   "cell_type": "code",
   "execution_count": 20,
   "id": "c388d4fa-580a-497a-98e3-15e1cb414e74",
   "metadata": {},
   "outputs": [
    {
     "ename": "TypeError",
     "evalue": "'int' object is not callable",
     "output_type": "error",
     "traceback": [
      "\u001b[0;31m---------------------------------------------------------------------------\u001b[0m",
      "\u001b[0;31mTypeError\u001b[0m                                 Traceback (most recent call last)",
      "Cell \u001b[0;32mIn [20], line 2\u001b[0m\n\u001b[1;32m      1\u001b[0m \u001b[38;5;28;01massert\u001b[39;00m \u001b[38;5;241m1\u001b[39m \u001b[38;5;241m==\u001b[39m \u001b[38;5;241m1\u001b[39m\n\u001b[0;32m----> 2\u001b[0m \u001b[38;5;28;01massert\u001b[39;00m \u001b[43mmultiply_even_sum_with_last\u001b[49m\u001b[43m(\u001b[49m\u001b[43m[\u001b[49m\u001b[38;5;241;43m0\u001b[39;49m\u001b[43m,\u001b[49m\u001b[43m \u001b[49m\u001b[38;5;241;43m1\u001b[39;49m\u001b[43m,\u001b[49m\u001b[43m \u001b[49m\u001b[38;5;241;43m2\u001b[39;49m\u001b[43m,\u001b[49m\u001b[43m \u001b[49m\u001b[38;5;241;43m3\u001b[39;49m\u001b[43m,\u001b[49m\u001b[43m \u001b[49m\u001b[38;5;241;43m4\u001b[39;49m\u001b[43m,\u001b[49m\u001b[43m \u001b[49m\u001b[38;5;241;43m5\u001b[39;49m\u001b[43m]\u001b[49m\u001b[43m)\u001b[49m \u001b[38;5;241m==\u001b[39m \u001b[38;5;241m15\u001b[39m\n\u001b[1;32m      3\u001b[0m \u001b[38;5;28;01massert\u001b[39;00m multiply_even_sum_with_last([]) \u001b[38;5;241m==\u001b[39m \u001b[38;5;241m0\u001b[39m\n",
      "Cell \u001b[0;32mIn [14], line 13\u001b[0m, in \u001b[0;36mmultiply_even_sum_with_last\u001b[0;34m(elements)\u001b[0m\n\u001b[1;32m     10\u001b[0m \u001b[38;5;28;01mif\u001b[39;00m \u001b[38;5;129;01mnot\u001b[39;00m elements:\n\u001b[1;32m     11\u001b[0m     \u001b[38;5;28;01mreturn\u001b[39;00m \u001b[38;5;241m0\u001b[39m\n\u001b[0;32m---> 13\u001b[0m even_sum \u001b[38;5;241m=\u001b[39m \u001b[38;5;28;43msum\u001b[39;49m\u001b[43m(\u001b[49m\u001b[43melements\u001b[49m\u001b[43m[\u001b[49m\u001b[38;5;241;43m0\u001b[39;49m\u001b[43m:\u001b[49m\u001b[43m:\u001b[49m\u001b[38;5;241;43m2\u001b[39;49m\u001b[43m]\u001b[49m\u001b[43m)\u001b[49m\n\u001b[1;32m     14\u001b[0m \u001b[38;5;28;01mreturn\u001b[39;00m even_sum \u001b[38;5;241m*\u001b[39m elements[\u001b[38;5;241m-\u001b[39m\u001b[38;5;241m1\u001b[39m]\n",
      "\u001b[0;31mTypeError\u001b[0m: 'int' object is not callable"
     ]
    }
   ],
   "source": [
    "assert 1 == 1\n",
    "assert multiply_even_sum_with_last([0, 1, 2, 3, 4, 5]) == 15\n",
    "assert multiply_even_sum_with_last([]) == 0"
   ]
  },
  {
   "cell_type": "code",
   "execution_count": null,
   "id": "91b9a995-c84c-45b5-9038-ae7eb816f20b",
   "metadata": {},
   "outputs": [],
   "source": [
    "\n"
   ]
  },
  {
   "cell_type": "code",
   "execution_count": 2,
   "id": "999e6b3a-435a-4c6b-965e-5d17f96f28ef",
   "metadata": {},
   "outputs": [
    {
     "name": "stdout",
     "output_type": "stream",
     "text": [
      "250\n"
     ]
    }
   ],
   "source": [
    "elements = [1, 2, 3, 4, 5, 6, 7, 8, 9, 10]\n",
    "even_last = sum(elements[::2]) * elements[-1] if elements else 0\n",
    "print(even_last)"
   ]
  },
  {
   "cell_type": "code",
   "execution_count": 22,
   "id": "dba6e306-8ca1-4266-991b-5044e1792f2f",
   "metadata": {},
   "outputs": [
    {
     "ename": "TypeError",
     "evalue": "'float' object is not callable",
     "output_type": "error",
     "traceback": [
      "\u001b[0;31m---------------------------------------------------------------------------\u001b[0m",
      "\u001b[0;31mTypeError\u001b[0m                                 Traceback (most recent call last)",
      "Cell \u001b[0;32mIn [22], line 3\u001b[0m\n\u001b[1;32m      1\u001b[0m \u001b[38;5;66;03m# 2\u001b[39;00m\n\u001b[1;32m      2\u001b[0m elements \u001b[38;5;241m=\u001b[39m [\u001b[38;5;241m10.2\u001b[39m, \u001b[38;5;241m-\u001b[39m\u001b[38;5;241m2.2\u001b[39m, \u001b[38;5;241m0\u001b[39m, \u001b[38;5;241m1.1\u001b[39m, \u001b[38;5;241m0.5\u001b[39m]\n\u001b[0;32m----> 3\u001b[0m \u001b[38;5;28mmax\u001b[39m \u001b[38;5;241m=\u001b[39m \u001b[38;5;28;43mmax\u001b[39;49m\u001b[43m(\u001b[49m\u001b[43melements\u001b[49m\u001b[43m)\u001b[49m\n\u001b[1;32m      4\u001b[0m \u001b[38;5;28mmin\u001b[39m \u001b[38;5;241m=\u001b[39m \u001b[38;5;28mmin\u001b[39m(elements)\n\u001b[1;32m      5\u001b[0m result \u001b[38;5;241m=\u001b[39m \u001b[38;5;28mmax\u001b[39m \u001b[38;5;241m-\u001b[39m \u001b[38;5;28mmin\u001b[39m\n",
      "\u001b[0;31mTypeError\u001b[0m: 'float' object is not callable"
     ]
    }
   ],
   "source": [
    "# 2\n",
    "elements = [10.2, -2.2, 0, 1.1, 0.5]\n",
    "max = max(elements)\n",
    "min = min(elements)\n",
    "result = max - min\n",
    "print(round(result, 3))\n",
    "\n"
   ]
  },
  {
   "cell_type": "code",
   "execution_count": 23,
   "id": "4de6d062-51a6-43c4-b91e-4fe9092adba0",
   "metadata": {},
   "outputs": [
    {
     "name": "stdout",
     "output_type": "stream",
     "text": [
      "Help on built-in function round in module builtins:\n",
      "\n",
      "round(number, ndigits=None)\n",
      "    Round a number to a given precision in decimal digits.\n",
      "    \n",
      "    The return value is an integer if ndigits is omitted or None.  Otherwise\n",
      "    the return value has the same type as the number.  ndigits may be negative.\n",
      "\n"
     ]
    }
   ],
   "source": [
    "help(round)"
   ]
  },
  {
   "cell_type": "code",
   "execution_count": null,
   "id": "b0e5abcc-6284-40b4-acd7-e4b0ed2d6961",
   "metadata": {},
   "outputs": [],
   "source": [
    "elements = [0, 1, 2, 3, 4, 5]\n",
    "\n",
    "if not elements:\n",
    "if len(elements) == 0:\n",
    "if elements == []:\n",
    "    print(f'Результат: 0')\n",
    "else:\n",
    "    print(f'Результат: {round((max(elements) - min(elements)), 3)}')\n"
   ]
  },
  {
   "cell_type": "code",
   "execution_count": 7,
   "id": "a0977f0f-70b4-4962-84b8-e1f49f68822e",
   "metadata": {},
   "outputs": [],
   "source": [
    "# 4.1\n",
    "elements_sorted = sorted(elements)\n",
    "n = len(elements_sorted)\n",
    "middle = n // 2\n",
    "if n % 2 == 0:\n",
    "    mediana = (elements_sorted[middle] + elements_sorted[middle - 1]) / 2\n",
    "else:\n",
    "    mediana = elements_sorted[middle]"
   ]
  },
  {
   "cell_type": "code",
   "execution_count": 9,
   "id": "6b80767a-de76-4306-ba82-93b63d42380f",
   "metadata": {},
   "outputs": [
    {
     "data": {
      "text/plain": [
       "5.5"
      ]
     },
     "execution_count": 9,
     "metadata": {},
     "output_type": "execute_result"
    }
   ],
   "source": [
    "# 4.2\n",
    "import statistics\n",
    "statistics.median(elements)"
   ]
  },
  {
   "cell_type": "code",
   "execution_count": 10,
   "id": "6b66009b-cf3e-462f-a7f3-b70ec9521327",
   "metadata": {},
   "outputs": [],
   "source": [
    "# 3"
   ]
  },
  {
   "cell_type": "code",
   "execution_count": 6,
   "id": "54ec73e4-d470-4c1a-a612-ac2c07c8b0fd",
   "metadata": {},
   "outputs": [],
   "source": [
    "# 3\n",
    "def sort(t):\n",
    "    values = []\n",
    "    for i in range(len(t)):\n",
    "        values.append(t[i])\n",
    "    # 1\n",
    "    values = t[:]\n",
    "    values.sort(key=abs)\n",
    "    \n",
    "    # 2\n",
    "    values = sorted(t, key=abs)\n",
    "    return values\n"
   ]
  },
  {
   "cell_type": "code",
   "execution_count": 8,
   "id": "f17e6b17-0328-4a30-958e-6d2dbb8669ab",
   "metadata": {},
   "outputs": [
    {
     "ename": "NameError",
     "evalue": "name 'line' is not defined",
     "output_type": "error",
     "traceback": [
      "\u001b[0;31m---------------------------------------------------------------------------\u001b[0m",
      "\u001b[0;31mNameError\u001b[0m                                 Traceback (most recent call last)",
      "Cell \u001b[0;32mIn [8], line 2\u001b[0m\n\u001b[1;32m      1\u001b[0m \u001b[38;5;66;03m# 5\u001b[39;00m\n\u001b[0;32m----> 2\u001b[0m \u001b[38;5;28;01mfor\u001b[39;00m letter \u001b[38;5;129;01min\u001b[39;00m \u001b[43mline\u001b[49m\u001b[38;5;241m.\u001b[39mupper():     \u001b[38;5;66;03m# отделяем буквы от иных символов\u001b[39;00m\n\u001b[1;32m      3\u001b[0m     \u001b[38;5;28;01mif\u001b[39;00m letter \u001b[38;5;241m==\u001b[39m letter\u001b[38;5;241m.\u001b[39mlower():\n\u001b[1;32m      4\u001b[0m         new_line \u001b[38;5;241m+\u001b[39m\u001b[38;5;241m=\u001b[39m line\u001b[38;5;241m.\u001b[39mreplace(line, \u001b[38;5;124m'\u001b[39m\u001b[38;5;124m \u001b[39m\u001b[38;5;124m'\u001b[39m)\n",
      "\u001b[0;31mNameError\u001b[0m: name 'line' is not defined"
     ]
    }
   ],
   "source": [
    "# 5\n",
    "for letter in line.upper():     # отделяем буквы от иных символов\n",
    "    if letter == letter.lower():\n",
    "        new_line += line.replace(line, ' ')\n",
    "    else:\n",
    "        if letter in vowels:    # гласные заменяем на 0, согласные на 1\n",
    "            new_line += '0'\n",
    "        else:\n",
    "            new_line += '1'\n",
    "\n",
    "new_line = new_line.split()\n",
    "\n",
    "for word_01 in new_line:\n",
    "    if '11' in word_01 or '00' in word_01 or len(word_01) == 1:\n",
    "        continue\n",
    "    else:\n",
    "        amount += 1\n",
    "print(amount)"
   ]
  },
  {
   "cell_type": "code",
   "execution_count": 9,
   "id": "25e41d18-fe87-4aae-be7f-1c0722ae5bc0",
   "metadata": {},
   "outputs": [
    {
     "name": "stdout",
     "output_type": "stream",
     "text": [
      "Count of stripped words: 3\n"
     ]
    }
   ],
   "source": [
    "import re\n",
    "VOWELS = \"AEIOUY\"\n",
    "CONSONANTS = \"BCDFGHJKLMNPQRSTVWXZ\"\n",
    "\n",
    "\n",
    "def get_char_key(char):\n",
    "    if char in VOWELS:\n",
    "        return 0\n",
    "    if char in CONSONANTS:\n",
    "        return 1\n",
    "    return -1\n",
    "\n",
    "\n",
    "def is_word_stripped(word):\n",
    "    even_chart = word[:len(word)-1:]\n",
    "    odd_chars = word[1::]\n",
    "    return all(get_char_key(even) + get_char_key(odd) == 1 for even, odd in zip(even_chart, odd_chars))\n",
    "\n",
    "\n",
    "text = \"My name is ...\"\n",
    "words = re.findall(r'\\w+', text.upper())\n",
    "stripped_words_count = sum(1 for word in words if len(word) > 1 and is_word_stripped)\n",
    "\n",
    "print(f'Count of stripped words: {stripped_words_count}')\n",
    "\n",
    "\n",
    "\n",
    "even_last = sum(elements[::2]) * elements[-1] if elements else 0"
   ]
  },
  {
   "cell_type": "code",
   "execution_count": null,
   "id": "f0d0bce2-d42a-43ad-a778-600719907170",
   "metadata": {},
   "outputs": [],
   "source": []
  }
 ],
 "metadata": {
  "kernelspec": {
   "display_name": "Python 3 (ipykernel)",
   "language": "python",
   "name": "python3"
  },
  "language_info": {
   "codemirror_mode": {
    "name": "ipython",
    "version": 3
   },
   "file_extension": ".py",
   "mimetype": "text/x-python",
   "name": "python",
   "nbconvert_exporter": "python",
   "pygments_lexer": "ipython3",
   "version": "3.10.6"
  }
 },
 "nbformat": 4,
 "nbformat_minor": 5
}
