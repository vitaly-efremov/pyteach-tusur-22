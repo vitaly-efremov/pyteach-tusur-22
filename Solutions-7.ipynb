{
 "cells": [
  {
   "cell_type": "code",
   "execution_count": 19,
   "id": "c218cdb9-d005-4dcc-bcc5-f2694877f449",
   "metadata": {},
   "outputs": [],
   "source": [
    "# 1.\n",
    "def popularity_count(text)->(dict,dict):\n",
    "\n",
    "    text_processing = text.translate(str.maketrans('', '', string.punctuation)) # удаление знаков препинания\n",
    "\n",
    "    words = text_processing.split(\" \") # получение списка из слов\n",
    "    letters = text_processing.replace(\" \",\"\") # получение строки букв\n",
    "\n",
    "    # объявление словарей\n",
    "    words_popularity = {}\n",
    "    letters_popularity = {}\n",
    "\n",
    "    for word in set(words): # в цикле по уникальным словам (set позволяет получить уникальные элементы)\n",
    "        words_popularity[word] = text.count(word) # подсчитываем количество слов с оригинальной строке\n",
    "    \n",
    "    for letter in set(letters): # в цикле по уникальным буквам (set позволяет получить уникальные элементы)\n",
    "        letters_popularity[letter] = text.count(letter) # подсчитываем количество букв в оргинальной строке\n",
    "\n",
    "    return words_popularity,letters_popularity"
   ]
  },
  {
   "cell_type": "code",
   "execution_count": 39,
   "id": "d355431e-0ed5-445e-8800-b585c65576a9",
   "metadata": {},
   "outputs": [
    {
     "name": "stdout",
     "output_type": "stream",
     "text": [
      "{'Hello': 2, 'World': 1}\n",
      "Counter(words) {'Hello': 2, 'World': 1}\n"
     ]
    }
   ],
   "source": [
    "words_popularity = {}\n",
    "words = ['Hello', 'World', 'Hello']\n",
    "for word in words:\n",
    "    if word in words_popularity:\n",
    "        words_popularity[word] += 1\n",
    "        # words_popularity[word] = words_popularity[word] + 1\n",
    "    else:\n",
    "        words_popularity[word] = 1\n",
    "print(words_popularity)\n",
    "\n",
    "from collections import defaultdict\n",
    "\n",
    "words_popularity = defaultdict(int)\n",
    "for word in words:\n",
    "    words_popularity[word] += 1\n",
    "\n",
    "words_popularity = defaultdict(list)\n",
    "for word in words:\n",
    "    words_popularity[word].append(word)\n",
    "\n",
    "from collections import Counter\n",
    "words_popularity = Counter(words)\n",
    "print('Counter(words)', dict(words_popularity))\n"
   ]
  },
  {
   "cell_type": "code",
   "execution_count": null,
   "id": "348f670e-90b4-49f4-ae01-c743a42098dd",
   "metadata": {},
   "outputs": [],
   "source": []
  },
  {
   "cell_type": "code",
   "execution_count": 13,
   "id": "84563c55-9db8-431f-98e2-a29d867fef72",
   "metadata": {},
   "outputs": [],
   "source": [
    "words = ['hello', 'world']\n",
    "words_popularity = {}\n",
    "\n",
    "for i in range(len(words)):\n",
    "    words_popularity[words[i]] = 0\n",
    "\n",
    "for word in words:\n",
    "    words_popularity[word] = 0 \n",
    "\n",
    "for word in words:\n",
    "    words_popularity[word] += 1\n"
   ]
  },
  {
   "cell_type": "code",
   "execution_count": 48,
   "id": "94bff562-51c5-4881-a0a6-7287c7c4e25a",
   "metadata": {},
   "outputs": [
    {
     "name": "stdout",
     "output_type": "stream",
     "text": [
      "[(56, 'Dinkoff'), (56, 'VTB24'), (56.1, 'SovkomBank'), (57.8, 'Sberbank'), (65.9, 'HalvaBank')]\n",
      "('VTB24', 56)\n",
      "sorted(rates.items()):  [('Dinkoff', 56), ('HalvaBank', 65.9), ('Sberbank', 57.8), ('SovkomBank', 56.1), ('VTB24', 56)]\n",
      "['VTB24', 'Dinkoff']\n"
     ]
    }
   ],
   "source": [
    "# 3.\n",
    "rates = {'Sberbank': 57.8, 'VTB24': 56, 'SovkomBank': 56.1, 'HalvaBank': 65.9, 'Dinkoff': 56} # Исходный словарь 'Sberbank': 57.8, 'VTB24': 56, 'SovkomBank': 56.1, 'HalvaBank': 65.9, 'Dinkoff': 56\n",
    "\n",
    "if len(rates) == 0:\n",
    "    print('Ошибка: Нет данных')\n",
    "else:\n",
    "    min_rate = min(rates.values())\n",
    "\n",
    "bank_list = [key for key in rates.keys() if rates[key] == min_rate]\n",
    "bank_list = [key for key, value in rates.items() if value == min_rate]\n",
    "\n",
    "# sorted value-key\n",
    "print(sorted(zip(rates.values(), rates.keys())))\n",
    "\n",
    "# min value-key\n",
    "min(zip(rates.values(), rates.keys()))\n",
    "\n",
    "# alternative\n",
    "print(min(rates.items(), key=lambda x: x[1]))\n",
    "print('sorted(rates.items()): ', sorted(rates.items()))\n",
    "\n",
    "print(bank_list)\n"
   ]
  },
  {
   "cell_type": "code",
   "execution_count": 53,
   "id": "5f03e914-8dc3-41a8-a830-f50fdbaa76b6",
   "metadata": {},
   "outputs": [
    {
     "name": "stdout",
     "output_type": "stream",
     "text": [
      "VTB24\n",
      "VTB24\n",
      "VTB24\n"
     ]
    },
    {
     "data": {
      "text/plain": [
       "'Sberbank'"
      ]
     },
     "execution_count": 53,
     "metadata": {},
     "output_type": "execute_result"
    }
   ],
   "source": [
    "rates = {'Sberbank': 55.8, 'VTB24': 53.91}\n",
    "print(min(rates, key=rates.get))\n",
    "\n",
    "print(min(rates.keys(), key=rates.get))\n",
    "bank, value = min(rates.items(), key=lambda x: x[1])\n",
    "print(bank)\n",
    "\n",
    "#min(rates)\n",
    "\n",
    "# Identical\n",
    "sorted(rates)\n",
    "sorted(rates.keys())\n",
    "\n",
    "# Min for dict\n",
    "min(rates)\n",
    "min(rates.keys())"
   ]
  },
  {
   "cell_type": "code",
   "execution_count": 7,
   "id": "cec9d4e4-d8af-4d92-84f9-acfdced1047d",
   "metadata": {},
   "outputs": [],
   "source": [
    "# 3. Alternative\n",
    "..."
   ]
  },
  {
   "cell_type": "code",
   "execution_count": 8,
   "id": "0918d6a5-02e7-4a77-8fe5-a619b2d5662a",
   "metadata": {},
   "outputs": [],
   "source": [
    "# 2.\n",
    "https://github.com/internetProhozhij/tusur_course/tree/master/part7\n",
    "\n",
    "https://github.com/dapkunayte/digital-academy/blob/part_7/venv/part_7.py\n",
    "https://gitlab.com/GevNet/python_cousrse/-/tree/main/7.6%20Jun\n",
    "\n",
    "def int_to_roman(num)->str:\n",
    "        res = \"\"\n",
    "        dict_roman = {\n",
    "            1000: \"M\",\n",
    "            900: \"CM\",\n",
    "            500: \"D\",\n",
    "            400: \"CD\",\n",
    "            100: \"C\",\n",
    "            90: \"XC\",\n",
    "            50: \"L\",\n",
    "            40: \"XL\",\n",
    "            10: \"X\",\n",
    "            9: \"IX\",\n",
    "            5: \"V\",\n",
    "            4: \"IV\",\n",
    "            1: \"I\",\n",
    "        }\n",
    "        for int, roman in dict_roman.items(): # перебираем все числа и соответсвующее им римское представление\n",
    "            div, mod = divmod(num, int) # получаем целое и остаток от деления нашего числа на число из списка\n",
    "            res += roman * div # прибавляем к результирующей строке такое количество римского числа, сколько раз нацело разделилось исходное число\n",
    "            num = mod # продолжаем работать с остатком от деления\n",
    "\n",
    "        return res\n"
   ]
  }
 ],
 "metadata": {
  "kernelspec": {
   "display_name": "Python 3 (ipykernel)",
   "language": "python",
   "name": "python3"
  },
  "language_info": {
   "codemirror_mode": {
    "name": "ipython",
    "version": 3
   },
   "file_extension": ".py",
   "mimetype": "text/x-python",
   "name": "python",
   "nbconvert_exporter": "python",
   "pygments_lexer": "ipython3",
   "version": "3.10.6"
  }
 },
 "nbformat": 4,
 "nbformat_minor": 5
}
