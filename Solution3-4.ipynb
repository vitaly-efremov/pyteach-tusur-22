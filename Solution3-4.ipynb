{
 "cells": [
  {
   "cell_type": "code",
   "execution_count": 16,
   "id": "5873854a-f676-4e34-b11d-02b898dab342",
   "metadata": {},
   "outputs": [
    {
     "name": "stdout",
     "output_type": "stream",
     "text": [
      "[1, 2]\n",
      "[1, 2]\n"
     ]
    }
   ],
   "source": [
    "number = '12'\n",
    "for char in str(number):\n",
    "    digit = int(char)\n",
    "\n",
    "digits = map(int, str(number))\n",
    "digits_list = list(digits)\n",
    "print(digits_list)\n",
    "print(digits_list)       "
   ]
  },
  {
   "cell_type": "code",
   "execution_count": 20,
   "id": "390df5bd-a36c-4840-aac6-33b5e0cc2e39",
   "metadata": {},
   "outputs": [
    {
     "name": "stdout",
     "output_type": "stream",
     "text": [
      "2\n"
     ]
    }
   ],
   "source": [
    "i = 0\n",
    "count_value = 2\n",
    "value = '123'\n",
    "answer = 1\n",
    "while i < count_value:\n",
    "    digit = int(value[i])\n",
    "    if digit != 0:\n",
    "        result = digit * result\n",
    "    i += 1\n",
    "print(result)"
   ]
  },
  {
   "cell_type": "code",
   "execution_count": 26,
   "id": "fa42ab12-dbd5-4931-95b5-6e193a87c864",
   "metadata": {},
   "outputs": [
    {
     "data": {
      "text/plain": [
       "-421"
      ]
     },
     "execution_count": 26,
     "metadata": {},
     "output_type": "execute_result"
    }
   ],
   "source": [
    "def reverse(x):\n",
    "    x = abs(x)\n",
    "    \n",
    "    absolute_x = abs(x)\n",
    "    str_number = str(absolute_x)\n",
    "    reversed_number = int(str_number[::-1])\n",
    "    \n",
    "    if x < 0:\n",
    "        result = -1 * reversed_number\n",
    "    \n",
    "    in_int32_range = result >= (-1 << 31) and result <= ((1 << 31) - 1)\n",
    "    if not in_int32_range:\n",
    "        return 0\n",
    "\n",
    "    return result\n",
    "\n",
    "reverse(-124)"
   ]
  },
  {
   "cell_type": "code",
   "execution_count": 39,
   "id": "e2e94af9-2a28-4a40-a238-54a2aae54ae4",
   "metadata": {},
   "outputs": [
    {
     "name": "stdout",
     "output_type": "stream",
     "text": [
      "reserved\n",
      "4294967295\n"
     ]
    }
   ],
   "source": [
    "final_num = 1\n",
    "min_int = -2147483648\n",
    "max_int = 4294967295\n",
    "\n",
    "phone = ''\n",
    "reserved_phone = 'reserved'\n",
    "# 1\n",
    "user_phone = phone\n",
    "if not phone:\n",
    "    user_phone = reserved_phone\n",
    "# 2\n",
    "user_phone = phone if phone else reserved_phone\n",
    "\n",
    "# 3\n",
    "user_phone = phone or reserved_phone\n",
    "print(user_phone)\n",
    "\n",
    "\n",
    "print(final_num == min_int or max_int)\n",
    "if max_int <= final_num <= min_int:\n",
    "    final_num = 0\n",
    "if final_num <=  min_int or final_num >= max_int:\n",
    "    final_num = 0\n"
   ]
  },
  {
   "cell_type": "code",
   "execution_count": 40,
   "id": "6bc8f9b6-f5e0-4691-9214-1c6b4c4e564a",
   "metadata": {},
   "outputs": [
    {
     "name": "stdout",
     "output_type": "stream",
     "text": [
      "00000000001\n"
     ]
    }
   ],
   "source": [
    "point_number = 1\n",
    "number_str = str(point_number)\n",
    "n = len(number_str)\n",
    "digits_number_size = 11\n",
    "\n",
    "if n < digits_number_size:\n",
    "    point_number = '0' * (digits_number_size - n)) + number_str\n",
    "\n",
    "print(point_number)\n"
   ]
  },
  {
   "cell_type": "code",
   "execution_count": 3,
   "id": "a516e4c1-03ba-4c01-87ef-d1683ed4ac7b",
   "metadata": {},
   "outputs": [],
   "source": [
    "def reverse(number):\n",
    "    if abs(number) >=  2147483647:\n",
    "        return 0\n",
    "\n",
    "    if number >= 0:\n",
    "        return int(str(number)[::-1])\n",
    "    else:\n",
    "        return (-1) * int(str(number)[:0:-1])\n",
    "\n",
    "    \n",
    "def reverse(number):\n",
    "    if abs(number) <  2147483647:\n",
    "        if number >= 0:\n",
    "            return int(str(number)[::-1])\n",
    "        else:\n",
    "            return (-1) * int(str(number)[:0:-1])\n",
    "    else:\n",
    "        return 0\n",
    "\n",
    "def reverse(number):\n",
    "    if abs(number) <  2147483647 and number >= 0:\n",
    "        return int(str(number)[::-1])\n",
    "    elif abs(number) <  2147483647 and number < 0:\n",
    "        return (-1) * int(str(number)[:0:-1])\n",
    "    return 0"
   ]
  },
  {
   "cell_type": "code",
   "execution_count": 47,
   "id": "8ed3c96f-5de5-4157-a064-c798f008f37c",
   "metadata": {},
   "outputs": [
    {
     "ename": "SyntaxError",
     "evalue": "invalid syntax (212853290.py, line 4)",
     "output_type": "error",
     "traceback": [
      "\u001b[0;36m  Cell \u001b[0;32mIn [47], line 4\u001b[0;36m\u001b[0m\n\u001b[0;31m    or = 1\u001b[0m\n\u001b[0m    ^\u001b[0m\n\u001b[0;31mSyntaxError\u001b[0m\u001b[0;31m:\u001b[0m invalid syntax\n"
     ]
    }
   ],
   "source": [
    "x = 1\n",
    "abs = 1\n",
    "abs(x)\n",
    "\n",
    "Str = ' ' + str(x)\n",
    "print(x // abs(x) * int(str[len(str):1 if x < 0 else 0:-1]))\n",
    "\n",
    "str('121')"
   ]
  },
  {
   "cell_type": "code",
   "execution_count": 43,
   "id": "bbf6ae8e-fe41-429e-bb3d-77d14b28b813",
   "metadata": {},
   "outputs": [],
   "source": [
    "\n",
    "class Task6:\n",
    "    \"\"\"\n",
    "    Дано: целое число.\n",
    "    Задание: написать программу, которая перемножит все цифры заданного числа (0 - исключить).\n",
    "    Примеры: 1) value = 123405, результат = 120 2) value = 999, результат = 729 3) value = 1000, результат = 1 4) value = 1111, результат = 1\n",
    "    \"\"\"\n",
    "    def start(self):\n",
    "        print('Task#6 [Junior+]')\n",
    "        print('Welcome to the Strange Calculator, like a SC (bad joke)')\n",
    "        value = input('Please type any number: ')\n",
    "        if not value.isdigit():\n",
    "            print('Choose the correct number'.center(50))\n",
    "            return\n",
    "\n",
    "        count_value = len(str(value))\n",
    "        i = 0\n",
    "        answer = 1\n",
    "        while i < count_value:\n",
    "            if int(value[i]) != 0:  #sorting our numbers by iter but except 0\n",
    "                answer = int(value[i]) * int(answer)  #Making math as it asked\n",
    "            i += 1\n",
    "        print(f'The answer is: {answer}')\n",
    "        input('Enter to continue')\n",
    "            \n",
    "\n"
   ]
  }
 ],
 "metadata": {
  "kernelspec": {
   "display_name": "Python 3 (ipykernel)",
   "language": "python",
   "name": "python3"
  },
  "language_info": {
   "codemirror_mode": {
    "name": "ipython",
    "version": 3
   },
   "file_extension": ".py",
   "mimetype": "text/x-python",
   "name": "python",
   "nbconvert_exporter": "python",
   "pygments_lexer": "ipython3",
   "version": "3.10.6"
  }
 },
 "nbformat": 4,
 "nbformat_minor": 5
}
